{
 "cells": [
  {
   "cell_type": "code",
   "execution_count": null,
   "id": "7b91bc22",
   "metadata": {
    "execution": {
     "iopub.execute_input": "2023-05-05T09:03:23.305504Z",
     "iopub.status.busy": "2023-05-05T09:03:23.304708Z",
     "iopub.status.idle": "2023-05-05T09:05:44.972413Z",
     "shell.execute_reply": "2023-05-05T09:05:44.971181Z"
    },
    "papermill": {
     "duration": 141.674115,
     "end_time": "2023-05-05T09:05:44.975087",
     "exception": false,
     "start_time": "2023-05-05T09:03:23.300972",
     "status": "completed"
    },
    "tags": []
   },
   "outputs": [],
   "source": [
    "! sudo apt-get install git > /dev/null\n",
    "! sudo apt-get install python3-pip > /dev/null\n",
    "! pip3 install pyqt5 > /dev/null\n",
    "! pip3 install pandas > /dev/null\n",
    "! pip3 install PyMySQL > /dev/null\n",
    "! pip3 install opencv-python > /dev/null\n",
    "! pip3 install imutils > /dev/null\n",
    "! pip3 install Pillow > /dev/null\n",
    "! pip3 install piexif > /dev/null\n",
    "! pip3 install -U scikit-learn > /dev/null\n",
    "! pip3 install keras > /dev/null\n",
    "! pip3 install tensorflow > /dev/null\n",
    "\n"
   ]
  },
  {
   "cell_type": "code",
   "execution_count": null,
   "id": "c3ea5172",
   "metadata": {
    "execution": {
     "iopub.execute_input": "2023-05-05T09:05:44.983525Z",
     "iopub.status.busy": "2023-05-05T09:05:44.981892Z",
     "iopub.status.idle": "2023-05-05T09:06:15.967244Z",
     "shell.execute_reply": "2023-05-05T09:06:15.965967Z"
    },
    "papermill": {
     "duration": 30.991457,
     "end_time": "2023-05-05T09:06:15.969577",
     "exception": false,
     "start_time": "2023-05-05T09:05:44.978120",
     "status": "completed"
    },
    "tags": []
   },
   "outputs": [],
   "source": [
    "! git clone https://nol.cs.nctu.edu.tw:234/open-source/TrackNetv2 > /dev/null"
   ]
  },
  {
   "cell_type": "code",
   "execution_count": null,
   "id": "ccb64faa",
   "metadata": {
    "execution": {
     "iopub.execute_input": "2023-05-05T09:06:15.979506Z",
     "iopub.status.busy": "2023-05-05T09:06:15.979177Z",
     "iopub.status.idle": "2023-05-05T09:06:17.940813Z",
     "shell.execute_reply": "2023-05-05T09:06:17.939440Z"
    },
    "papermill": {
     "duration": 1.969469,
     "end_time": "2023-05-05T09:06:17.943274",
     "exception": false,
     "start_time": "2023-05-05T09:06:15.973805",
     "status": "completed"
    },
    "tags": []
   },
   "outputs": [],
   "source": [
    "!sed -i '7d' /kaggle/working/TrackNetv2/3_in_1_out/predict.py\n",
    "!sed -i '1s/^/from tensorflow.keras.utils import array_to_img, img_to_array\\n/' /kaggle/working/TrackNetv2/3_in_1_out/predict.py "
   ]
  },
  {
   "cell_type": "code",
   "execution_count": null,
   "id": "d4833543",
   "metadata": {
    "execution": {
     "iopub.execute_input": "2023-05-05T09:06:17.954105Z",
     "iopub.status.busy": "2023-05-05T09:06:17.953804Z",
     "iopub.status.idle": "2023-05-05T09:06:47.187859Z",
     "shell.execute_reply": "2023-05-05T09:06:47.186465Z"
    },
    "papermill": {
     "duration": 29.242297,
     "end_time": "2023-05-05T09:06:47.190505",
     "exception": false,
     "start_time": "2023-05-05T09:06:17.948208",
     "status": "completed"
    },
    "tags": []
   },
   "outputs": [],
   "source": [
    "!cp -R /kaggle/input/badminton-train/train_video ./ "
   ]
  },
  {
   "cell_type": "code",
   "execution_count": null,
   "id": "717e7013",
   "metadata": {
    "execution": {
     "iopub.execute_input": "2023-05-05T09:06:47.201852Z",
     "iopub.status.busy": "2023-05-05T09:06:47.201032Z",
     "iopub.status.idle": "2023-05-05T19:08:59.078548Z",
     "shell.execute_reply": "2023-05-05T19:08:59.077101Z"
    },
    "papermill": {
     "duration": 36131.886209,
     "end_time": "2023-05-05T19:08:59.081467",
     "exception": false,
     "start_time": "2023-05-05T09:06:47.195258",
     "status": "completed"
    },
    "tags": []
   },
   "outputs": [],
   "source": [
    "from pathlib import Path\n",
    "import random\n",
    "from multiprocessing import Process, Pool\n",
    "\n",
    "exist = open('/kaggle/input/exist-video/ball_files.csv','r')\n",
    "for video_name in exist:\n",
    "    !rm ./train_video/{video_name.strip('\\n')}.mp4\n",
    "\n",
    "\n",
    "vid_path = Path('./train_video').glob('*.mp4')\n",
    "for i in vid_path:\n",
    "    !python /kaggle/working/TrackNetv2/3_in_1_out/predict.py --video_name={i} --load_weights=/kaggle/working/TrackNetv2/3_in_1_out/model_33 > /dev/null\n",
    "    !rm {str(i)}\n",
    "    if random.random() < 0.9 :\n",
    "        !rm {str(i).strip('.mp4')}_predict.mp4"
   ]
  },
  {
   "cell_type": "code",
   "execution_count": null,
   "id": "8249e634",
   "metadata": {
    "execution": {
     "iopub.execute_input": "2023-05-05T19:08:59.136535Z",
     "iopub.status.busy": "2023-05-05T19:08:59.135645Z",
     "iopub.status.idle": "2023-05-05T19:09:00.204242Z",
     "shell.execute_reply": "2023-05-05T19:09:00.202864Z"
    },
    "papermill": {
     "duration": 1.098293,
     "end_time": "2023-05-05T19:09:00.206806",
     "exception": false,
     "start_time": "2023-05-05T19:08:59.108513",
     "status": "completed"
    },
    "tags": []
   },
   "outputs": [],
   "source": [
    "! rm -R ./TrackNetv2"
   ]
  }
 ],
 "metadata": {
  "kernelspec": {
   "display_name": "Python 3",
   "language": "python",
   "name": "python3"
  },
  "language_info": {
   "codemirror_mode": {
    "name": "ipython",
    "version": 3
   },
   "file_extension": ".py",
   "mimetype": "text/x-python",
   "name": "python",
   "nbconvert_exporter": "python",
   "pygments_lexer": "ipython3",
   "version": "3.10.10"
  },
  "papermill": {
   "default_parameters": {},
   "duration": 36351.215962,
   "end_time": "2023-05-05T19:09:01.005550",
   "environment_variables": {},
   "exception": null,
   "input_path": "__notebook__.ipynb",
   "output_path": "__notebook__.ipynb",
   "parameters": {},
   "start_time": "2023-05-05T09:03:09.789588",
   "version": "2.4.0"
  }
 },
 "nbformat": 4,
 "nbformat_minor": 5
}
