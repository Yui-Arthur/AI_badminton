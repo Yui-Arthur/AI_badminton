{
 "cells": [
  {
   "cell_type": "code",
   "execution_count": 48,
   "metadata": {},
   "outputs": [
    {
     "name": "stdout",
     "output_type": "stream",
     "text": [
      "     VideoName ShotSeq HitFrmae Hitter RoundHead Backhand BallHeight LandingX  \\\n",
      "0    00001.mp4       1       54      A         1        1          1        1   \n",
      "1    00002.mp4       1       53      A         1        1          1        1   \n",
      "2    00003.mp4       1       35      A         1        1          1        1   \n",
      "3    00004.mp4       1        1      A         1        1          1        1   \n",
      "4    00005.mp4       1       47      A         1        1          1        1   \n",
      "..         ...     ...      ...    ...       ...      ...        ...      ...   \n",
      "164  00165.mp4       1       57      A         1        1          1        1   \n",
      "165  00166.mp4       1        1      A         1        1          1        1   \n",
      "166  00167.mp4       1       13      A         1        1          1        1   \n",
      "167  00168.mp4       1      133      A         1        1          1        1   \n",
      "168  00169.mp4       1        1      A         1        1          1        1   \n",
      "\n",
      "    LandingY HitterLocationX HitterLocationY DefenderLocationX  \\\n",
      "0          1               1               1                 1   \n",
      "1          1               1               1                 1   \n",
      "2          1               1               1                 1   \n",
      "3          1               1               1                 1   \n",
      "4          1               1               1                 1   \n",
      "..       ...             ...             ...               ...   \n",
      "164        1               1               1                 1   \n",
      "165        1               1               1                 1   \n",
      "166        1               1               1                 1   \n",
      "167        1               1               1                 1   \n",
      "168        1               1               1                 1   \n",
      "\n",
      "    DefenderLocationY BallType Winner  \n",
      "0                   1        1      A  \n",
      "1                   1        1      A  \n",
      "2                   1        1      A  \n",
      "3                   1        1      A  \n",
      "4                   1        1      A  \n",
      "..                ...      ...    ...  \n",
      "164                 1        1      A  \n",
      "165                 1        1      A  \n",
      "166                 1        1      A  \n",
      "167                 1        1      A  \n",
      "168                 1        1      A  \n",
      "\n",
      "[169 rows x 15 columns]\n"
     ]
    }
   ],
   "source": [
    "import pandas as pd\n",
    "\n",
    "df = pd.read_csv('./result.csv')\n",
    "\n",
    "df.sort_values(by=['VideoName'])\n",
    "# print(df)\n",
    "new_df = pd.DataFrame(columns=df.columns)\n",
    "for i in df['VideoName'].unique():\n",
    "    tmp = df.loc[df['VideoName'] == i].iloc[0]\n",
    "    # print(tmp[-1])\n",
    "    # print(tmp)\n",
    "    # break\n",
    "    tmp['Winner'] = 'A'\n",
    "    new_df = pd.concat([new_df , tmp.to_frame().T] , ignore_index=True)\n",
    "    # df.at[tmp[-1], 'Winner'] = 'A'\n",
    "    # print(tmp)\n",
    "    # break\n",
    "print(new_df)\n",
    "\n",
    "new_df.to_csv(\"new_results.csv\" , index=False)"
   ]
  }
 ],
 "metadata": {
  "kernelspec": {
   "display_name": "AIFT",
   "language": "python",
   "name": "python3"
  },
  "language_info": {
   "codemirror_mode": {
    "name": "ipython",
    "version": 3
   },
   "file_extension": ".py",
   "mimetype": "text/x-python",
   "name": "python",
   "nbconvert_exporter": "python",
   "pygments_lexer": "ipython3",
   "version": "3.9.15"
  },
  "orig_nbformat": 4
 },
 "nbformat": 4,
 "nbformat_minor": 2
}
